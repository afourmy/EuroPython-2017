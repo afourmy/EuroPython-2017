{
 "cells": [
  {
   "cell_type": "code",
   "execution_count": 1,
   "metadata": {
    "collapsed": true
   },
   "outputs": [],
   "source": [
    "## create a polygon in tkinter\n",
    "\n",
    "import tkinter as tk\n",
    "\n",
    "# start the main tkinter window\n",
    "window = tk.Tk()\n",
    "# create a canvas\n",
    "canvas = tk.Canvas(window, background='white')\n",
    "# create a polygon\n",
    "canvas.create_polygon(150, 75, 225, 30, 245, 75, 225, 150, 30, 46, outline='gray', fill='gray', width=2)\n",
    "# display the canvas\n",
    "canvas.pack()\n",
    "# run the application\n",
    "window.mainloop()"
   ]
  },
  {
   "cell_type": "code",
   "execution_count": null,
   "metadata": {},
   "outputs": [],
   "source": [
    "## pyproj\n",
    "\n",
    "from pyproj import Proj\n",
    "mercator = Proj(init='epsg:3395')\n",
    "\n",
    "# geographic coordinates of Rimini\n",
    "# Longitude: 12.5652800°\n",
    "# Latitude: 44.0575500°\n",
    "longitude, latitude = 12.56528, 44.05755\n",
    "\n",
    "# convert geographic coordinates to projected coordinates\n",
    "rimini_x, rimini_y = mercator(longitude, latitude)\n",
    "\n",
    "# convert projected coordinates to geographic coordinates\n",
    "rimini_lon, rimini_lat = mercator(rimini_x, rimini_y, inverse=True)\n",
    "\n",
    "print('projected coordinates: x={}, y={}'.format(rimini_x, rimini_y))\n",
    "print('geographic coordinates: lon={}, lat={}'.format(rimini_lon, rimini_lat))"
   ]
  },
  {
   "cell_type": "code",
   "execution_count": null,
   "metadata": {},
   "outputs": [],
   "source": [
    "## extract the polygons of a shapefile \n",
    "\n",
    "import shapely.geometry\n",
    "from shapefile import Reader\n",
    "\n",
    "path_to_shapefile = 'C:/Users/minto/Desktop/EuroPython 2017/pyGISS - Jupyter notebook/Continents.shp'\n",
    "\n",
    "# open the .shp file with the shapefile Reader\n",
    "sf = Reader(path_to_shapefile)  \n",
    "# retrieves the shapefile's shapes\n",
    "shapes = sf.shapes() \n",
    "for obj in shapes:\n",
    "    # convert shapefile geometries into shapely geometries\n",
    "    shape = shapely.geometry.shape(obj)\n",
    "    # - geom_type tells us if it is a polygon or a multipolygon\n",
    "    # - the length of a multipolygon tells us how many polygons it contains\n",
    "    # - a shapely multipolygon is an iterable\n",
    "    print(shape.geom_type, len(shape), hasattr(shape, '__iter__'), shape[0].geom_type)\n"
   ]
  },
  {
   "cell_type": "code",
   "execution_count": 4,
   "metadata": {
    "collapsed": true
   },
   "outputs": [],
   "source": [
    "import tkinter as tk\n",
    "import shapely.geometry\n",
    "import shapefile\n",
    "import pyproj\n",
    "\n",
    "window = tk.Tk()\n",
    "canvas = tk.Canvas(window, width=800, height=600, background='white')\n",
    "# to be replaced with local path to a shapefile\n",
    "path_to_shapefile = 'C:/Users/minto/Desktop/EuroPython 2017/pyGISS - Jupyter notebook/World countries.shp'\n",
    "        \n",
    "def to_projected_coordinates(longitude, latitude):\n",
    "    px, py = pyproj.Proj(init='epsg:3395')(longitude, latitude)\n",
    "    # in tkinter, the y axis is reversed, we take the inverse of the projected y coordinate\n",
    "    return px, -py\n",
    "\n",
    "sf = shapefile.Reader(path_to_shapefile)       \n",
    "polygons = sf.shapes() \n",
    "for polygon in polygons:\n",
    "    # convert shapefile geometries into shapely geometries\n",
    "    # to extract the polygons of a multipolygon\n",
    "    polygon = shapely.geometry.shape(polygon)\n",
    "    # if it is a polygon, we use a list to make it iterable\n",
    "    if polygon.geom_type == 'Polygon':\n",
    "        polygon = [polygon]\n",
    "    for land in polygon:\n",
    "        land = str(land)[10:-2].replace(', ', ',').replace(' ', ',')\n",
    "        coords = land.replace('(', '').replace(')', '').split(',')\n",
    "        canvas.create_polygon(sum((to_projected_coordinates(*c) for c in zip(coords[0::2], coords[1::2])), ()))\n",
    "    \n",
    "# windows zoom\n",
    "canvas.bind('<MouseWheel>', lambda e: canvas.scale('all', e.x, e.y, (e.delta>0)*1.2 or 0.8, (e.delta>0)*1.2 or 0.8))\n",
    "# unix zoom\n",
    "canvas.bind('<Button-4>', lambda e: canvas.scale('all', e.x, e.y, 1.2, 1.2))\n",
    "canvas.bind('<Button-5>', lambda e: canvas.scale('all', e.x, e.y, 0.8, 0.8))\n",
    "canvas.pack()\n",
    "window.mainloop()"
   ]
  },
  {
   "cell_type": "code",
   "execution_count": 6,
   "metadata": {
    "collapsed": true
   },
   "outputs": [],
   "source": [
    "from tkinter import filedialog\n",
    "import tkinter as tk\n",
    "import shapely.geometry\n",
    "import shapefile\n",
    "import pyproj\n",
    "\n",
    "window = tk.Tk()\n",
    "canvas = tk.Canvas(window, width=800, height=600, background='white')\n",
    "        \n",
    "def to_projected_coordinates(longitude, latitude):\n",
    "    px, py = pyproj.Proj('+proj=ortho +lon_0=28 +lat_0=47')(longitude, latitude)\n",
    "    # in tkinter, the y axis is reversed, we take the inverse of the projected y coordinate\n",
    "    return px, -py\n",
    "\n",
    "# ask the user to choose a file\n",
    "filepath ,= tk.filedialog.askopenfilenames(title='Import shapefile')\n",
    "sf = shapefile.Reader(filepath)       \n",
    "polygons = sf.shapes() \n",
    "for polygon in polygons:\n",
    "    # convert shapefile geometries into shapely geometries\n",
    "    # to extract the polygons of a multipolygon\n",
    "    polygon = shapely.geometry.shape(polygon)\n",
    "    # if it is a polygon, we use a list to make it iterable\n",
    "    if polygon.geom_type == 'Polygon':\n",
    "        polygon = [polygon]\n",
    "    for land in polygon:\n",
    "        land = str(land)[10:-2].replace(', ', ',').replace(' ', ',')\n",
    "        coords = land.replace('(', '').replace(')', '').split(',')\n",
    "        canvas.create_polygon(sum((to_projected_coordinates(*c) for c in zip(coords[0::2], coords[1::2])), ()))\n",
    "    \n",
    "# windows zoom\n",
    "canvas.bind('<MouseWheel>', lambda e: canvas.scale('all', e.x, e.y, (e.delta>0)*1.2 or 0.8, (e.delta>0)*1.2 or 0.8))\n",
    "# unix zoom\n",
    "canvas.bind('<Button-4>', lambda e: canvas.scale('all', e.x, e.y, 1.2, 1.2))\n",
    "canvas.bind('<Button-5>', lambda e: canvas.scale('all', e.x, e.y, 0.8, 0.8))\n",
    "# canvas sliding with right-click button\n",
    "canvas.bind('<ButtonPress-3>', lambda e: canvas.scan_mark(e.x, e.y))\n",
    "canvas.bind('<B3-Motion>', lambda e: canvas.scan_dragto(e.x, e.y, gain=1))\n",
    "canvas.pack()\n",
    "window.mainloop()"
   ]
  },
  {
   "cell_type": "code",
   "execution_count": null,
   "metadata": {
    "collapsed": true
   },
   "outputs": [],
   "source": []
  }
 ],
 "metadata": {
  "kernelspec": {
   "display_name": "Python 3",
   "language": "python",
   "name": "python3"
  },
  "language_info": {
   "codemirror_mode": {
    "name": "ipython",
    "version": 3
   },
   "file_extension": ".py",
   "mimetype": "text/x-python",
   "name": "python",
   "nbconvert_exporter": "python",
   "pygments_lexer": "ipython3",
   "version": "3.4.1"
  }
 },
 "nbformat": 4,
 "nbformat_minor": 2
}
